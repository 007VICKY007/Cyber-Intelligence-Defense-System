{
  "nbformat": 4,
  "nbformat_minor": 0,
  "metadata": {
    "colab": {
      "provenance": []
    },
    "kernelspec": {
      "name": "python3",
      "display_name": "Python 3"
    },
    "language_info": {
      "name": "python"
    }
  },
  "cells": [
    {
      "cell_type": "code",
      "execution_count": 2,
      "metadata": {
        "id": "bd_TbNxF9B3L"
      },
      "outputs": [],
      "source": [
        "import pandas as pd\n",
        "\n",
        "# Load dataset\n",
        "data = pd.read_csv('/content/Phising_Detection_Dataset.csv')\n",
        "\n",
        "# Assuming the last column is the label and the rest are features\n",
        "X = data.iloc[:, :-1].values\n",
        "y = data.iloc[:, -1].values"
      ]
    },
    {
      "cell_type": "code",
      "source": [
        "from sklearn.model_selection import train_test_split\n",
        "from sklearn.preprocessing import StandardScaler\n",
        "\n",
        "# Split the data\n",
        "X_train, X_test, y_train, y_test = train_test_split(X, y, test_size=0.2, random_state=42)\n",
        "\n",
        "# Normalize the data\n",
        "scaler = StandardScaler()\n",
        "X_train = scaler.fit_transform(X_train)\n",
        "X_test = scaler.transform(X_test)\n"
      ],
      "metadata": {
        "id": "NXSgD647FQIg"
      },
      "execution_count": 3,
      "outputs": []
    },
    {
      "cell_type": "code",
      "source": [
        "import torch\n",
        "import torch.nn as nn\n",
        "import torch.optim as optim\n",
        "\n",
        "class MalwareDetectionModel(nn.Module):\n",
        "    def __init__(self):\n",
        "        super(MalwareDetectionModel, self).__init__()\n",
        "        self.fc1 = nn.Linear(X_train.shape[1], 128)\n",
        "        self.fc2 = nn.Linear(128, 64)\n",
        "        self.fc3 = nn.Linear(64, 1)\n",
        "        self.sigmoid = nn.Sigmoid()\n",
        "\n",
        "    def forward(self, x):\n",
        "        x = torch.relu(self.fc1(x))\n",
        "        x = torch.relu(self.fc2(x))\n",
        "        x = self.fc3(x)\n",
        "        x = self.sigmoid(x)\n",
        "        return x\n",
        "\n",
        "model = MalwareDetectionModel()\n"
      ],
      "metadata": {
        "id": "dHrz3EhzFS-x"
      },
      "execution_count": 4,
      "outputs": []
    },
    {
      "cell_type": "code",
      "source": [
        "import torch\n",
        "import torch.nn as nn\n",
        "import torch.optim as optim\n",
        "from sklearn.model_selection import train_test_split\n",
        "from sklearn.preprocessing import StandardScaler\n",
        "\n",
        "# Define your neural network model\n",
        "class MyModel(nn.Module):\n",
        "    def __init__(self, input_size, hidden_size, output_size):\n",
        "        super(MyModel, self).__init__()\n",
        "        self.fc1 = nn.Linear(input_size, hidden_size)\n",
        "        self.relu = nn.ReLU()\n",
        "        self.fc2 = nn.Linear(hidden_size, output_size)\n",
        "        self.sigmoid = nn.Sigmoid()  # Sigmoid activation for binary classification\n",
        "\n",
        "    def forward(self, x):\n",
        "        out = self.fc1(x)\n",
        "        out = self.relu(out)\n",
        "        out = self.fc2(out)\n",
        "        out = self.sigmoid(out)  # Applying sigmoid to get probabilities\n",
        "        return out"
      ],
      "metadata": {
        "id": "8BFPk6ZaFbAC"
      },
      "execution_count": 8,
      "outputs": []
    },
    {
      "cell_type": "code",
      "source": [
        "# Split the data (Replace X and y with your actual data)\n",
        "X_train, X_test, y_train, y_test = train_test_split(X, y, test_size=0.2, random_state=42)\n",
        "\n",
        "# Normalize the data\n",
        "scaler = StandardScaler()\n",
        "X_train = scaler.fit_transform(X_train)\n",
        "X_test = scaler.transform(X_test)\n"
      ],
      "metadata": {
        "id": "2y-dNJB3FeM_"
      },
      "execution_count": 9,
      "outputs": []
    },
    {
      "cell_type": "code",
      "source": [
        "# Ensure that y_train and y_test are in the range [0, 1] for binary classification\n",
        "y_train = y_train.astype(float)  # Convert y_train to float type\n",
        "y_test = y_test.astype(float)  # Convert y_test to float type\n"
      ],
      "metadata": {
        "id": "YX08FmigHqex"
      },
      "execution_count": 12,
      "outputs": []
    },
    {
      "cell_type": "code",
      "source": [
        "# Model, criterion, and optimizer initialization\n",
        "input_size = X_train.shape[1]\n",
        "output_size = 1  # For binary classification\n",
        "hidden_size = 64\n",
        "model = MyModel(input_size=input_size, hidden_size=hidden_size, output_size=output_size)\n",
        "criterion = nn.BCEWithLogitsLoss()  # Use BCEWithLogitsLoss\n",
        "optimizer = optim.Adam(model.parameters(), lr=0.001)"
      ],
      "metadata": {
        "id": "IqK9xJk2H1kG"
      },
      "execution_count": 28,
      "outputs": []
    },
    {
      "cell_type": "code",
      "source": [
        "# Convert data to PyTorch tensors\n",
        "X_train_tensor = torch.tensor(X_train, dtype=torch.float32)\n",
        "y_train_tensor = torch.tensor(y_train, dtype=torch.float32).view(-1, 1)\n",
        "X_test_tensor = torch.tensor(X_test, dtype=torch.float32)\n",
        "y_test_tensor = torch.tensor(y_test, dtype=torch.float32).view(-1, 1)"
      ],
      "metadata": {
        "id": "m0h0KrKOHCZw"
      },
      "execution_count": 23,
      "outputs": []
    },
    {
      "cell_type": "code",
      "source": [
        "# Training loop\n",
        "num_epochs = 50\n",
        "for epoch in range(num_epochs):\n",
        "    model.train()\n",
        "    optimizer.zero_grad()\n",
        "    outputs = model(X_train_tensor)\n",
        "\n",
        "    # Print shapes for debugging\n",
        "    print(outputs.shape, y_train_tensor.shape)\n",
        "\n",
        "    # Ensure shapes compatibility\n",
        "    assert outputs.shape == y_train_tensor.shape, \"Shapes mismatch: outputs and y_train_tensor\"\n",
        "\n",
        "    loss = criterion(outputs, y_train_tensor)\n",
        "    loss.backward()\n",
        "    optimizer.step()\n",
        "\n",
        "    # Evaluate on the test set\n",
        "    model.eval()\n",
        "    with torch.no_grad():\n",
        "        test_outputs = model(X_test_tensor)\n",
        "        test_loss = criterion(test_outputs, y_test_tensor)\n",
        "\n",
        "    if (epoch+1) % 10 == 0:\n",
        "        print(f'Epoch [{epoch+1}/{num_epochs}], Train Loss: {loss.item():.4f}, Test Loss: {test_loss.item():.4f}')"
      ],
      "metadata": {
        "colab": {
          "base_uri": "https://localhost:8080/"
        },
        "id": "81oFtmabHIb8",
        "outputId": "08a88530-5e4e-441d-dab0-f6db8e555338"
      },
      "execution_count": 29,
      "outputs": [
        {
          "output_type": "stream",
          "name": "stdout",
          "text": [
            "torch.Size([530072, 1]) torch.Size([530072, 1])\n",
            "torch.Size([530072, 1]) torch.Size([530072, 1])\n",
            "torch.Size([530072, 1]) torch.Size([530072, 1])\n",
            "torch.Size([530072, 1]) torch.Size([530072, 1])\n",
            "torch.Size([530072, 1]) torch.Size([530072, 1])\n",
            "torch.Size([530072, 1]) torch.Size([530072, 1])\n",
            "torch.Size([530072, 1]) torch.Size([530072, 1])\n",
            "torch.Size([530072, 1]) torch.Size([530072, 1])\n",
            "torch.Size([530072, 1]) torch.Size([530072, 1])\n",
            "torch.Size([530072, 1]) torch.Size([530072, 1])\n",
            "Epoch [10/50], Train Loss: nan, Test Loss: nan\n",
            "torch.Size([530072, 1]) torch.Size([530072, 1])\n",
            "torch.Size([530072, 1]) torch.Size([530072, 1])\n",
            "torch.Size([530072, 1]) torch.Size([530072, 1])\n",
            "torch.Size([530072, 1]) torch.Size([530072, 1])\n",
            "torch.Size([530072, 1]) torch.Size([530072, 1])\n",
            "torch.Size([530072, 1]) torch.Size([530072, 1])\n",
            "torch.Size([530072, 1]) torch.Size([530072, 1])\n",
            "torch.Size([530072, 1]) torch.Size([530072, 1])\n",
            "torch.Size([530072, 1]) torch.Size([530072, 1])\n",
            "torch.Size([530072, 1]) torch.Size([530072, 1])\n",
            "Epoch [20/50], Train Loss: nan, Test Loss: nan\n",
            "torch.Size([530072, 1]) torch.Size([530072, 1])\n",
            "torch.Size([530072, 1]) torch.Size([530072, 1])\n",
            "torch.Size([530072, 1]) torch.Size([530072, 1])\n",
            "torch.Size([530072, 1]) torch.Size([530072, 1])\n",
            "torch.Size([530072, 1]) torch.Size([530072, 1])\n",
            "torch.Size([530072, 1]) torch.Size([530072, 1])\n",
            "torch.Size([530072, 1]) torch.Size([530072, 1])\n",
            "torch.Size([530072, 1]) torch.Size([530072, 1])\n",
            "torch.Size([530072, 1]) torch.Size([530072, 1])\n",
            "torch.Size([530072, 1]) torch.Size([530072, 1])\n",
            "Epoch [30/50], Train Loss: nan, Test Loss: nan\n",
            "torch.Size([530072, 1]) torch.Size([530072, 1])\n",
            "torch.Size([530072, 1]) torch.Size([530072, 1])\n",
            "torch.Size([530072, 1]) torch.Size([530072, 1])\n",
            "torch.Size([530072, 1]) torch.Size([530072, 1])\n",
            "torch.Size([530072, 1]) torch.Size([530072, 1])\n",
            "torch.Size([530072, 1]) torch.Size([530072, 1])\n",
            "torch.Size([530072, 1]) torch.Size([530072, 1])\n",
            "torch.Size([530072, 1]) torch.Size([530072, 1])\n",
            "torch.Size([530072, 1]) torch.Size([530072, 1])\n",
            "torch.Size([530072, 1]) torch.Size([530072, 1])\n",
            "Epoch [40/50], Train Loss: nan, Test Loss: nan\n",
            "torch.Size([530072, 1]) torch.Size([530072, 1])\n",
            "torch.Size([530072, 1]) torch.Size([530072, 1])\n",
            "torch.Size([530072, 1]) torch.Size([530072, 1])\n",
            "torch.Size([530072, 1]) torch.Size([530072, 1])\n",
            "torch.Size([530072, 1]) torch.Size([530072, 1])\n",
            "torch.Size([530072, 1]) torch.Size([530072, 1])\n",
            "torch.Size([530072, 1]) torch.Size([530072, 1])\n",
            "torch.Size([530072, 1]) torch.Size([530072, 1])\n",
            "torch.Size([530072, 1]) torch.Size([530072, 1])\n",
            "torch.Size([530072, 1]) torch.Size([530072, 1])\n",
            "Epoch [50/50], Train Loss: nan, Test Loss: nan\n"
          ]
        }
      ]
    },
    {
      "cell_type": "code",
      "source": [
        "model.eval()\n",
        "with torch.no_grad():\n",
        "    outputs = model(X_test_tensor)\n",
        "    predicted = (outputs > 0.5).float()\n",
        "    accuracy = (predicted.eq(y_test_tensor).sum() / y_test_tensor.shape[0]).item()\n",
        "    print(f'Accuracy: {accuracy:.4f}')\n"
      ],
      "metadata": {
        "colab": {
          "base_uri": "https://localhost:8080/"
        },
        "id": "f8JwDkxKLjBU",
        "outputId": "32e49100-82ae-46ca-a9c7-d0cda0948d6f"
      },
      "execution_count": 30,
      "outputs": [
        {
          "output_type": "stream",
          "name": "stdout",
          "text": [
            "Accuracy: 0.7997\n"
          ]
        }
      ]
    },
    {
      "cell_type": "code",
      "source": [
        "torch.save(model.state_dict(), 'malware_detection_model.pth')\n"
      ],
      "metadata": {
        "id": "OsGYxilKLrqr"
      },
      "execution_count": 31,
      "outputs": []
    }
  ]
}